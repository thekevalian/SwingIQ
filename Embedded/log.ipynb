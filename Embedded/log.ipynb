{
 "cells": [
  {
   "cell_type": "code",
   "execution_count": null,
   "metadata": {},
   "outputs": [],
   "source": [
    "!pip install bleak pandas"
   ]
  },
  {
   "cell_type": "code",
   "execution_count": 1,
   "metadata": {},
   "outputs": [],
   "source": [
    "import pandas as pd\n",
    "from bleak import BleakScanner, BleakClient\n",
    "import asyncio"
   ]
  },
  {
   "cell_type": "code",
   "execution_count": 14,
   "metadata": {},
   "outputs": [],
   "source": [
    "df = pd.read_csv(\"SAMPLE2.CSV\")\n"
   ]
  },
  {
   "cell_type": "code",
   "execution_count": 15,
   "metadata": {},
   "outputs": [
    {
     "data": {
      "text/plain": [
       "np.int64(8708)"
      ]
     },
     "execution_count": 15,
     "metadata": {},
     "output_type": "execute_result"
    }
   ],
   "source": [
    "df['time (ms)'].max() - df['time (ms)'].min()"
   ]
  },
  {
   "cell_type": "code",
   "execution_count": 16,
   "metadata": {},
   "outputs": [],
   "source": [
    "times = (df['time (ms)'].shift(-1)[:-1] - df['time (ms)'][:-1])"
   ]
  },
  {
   "cell_type": "code",
   "execution_count": 17,
   "metadata": {},
   "outputs": [
    {
     "data": {
      "text/plain": [
       "(array([707.,  29.,  81., 139., 298.,  40.,   0.,   0.,   0.,   0.,   0.,\n",
       "          0.,   0.,   0.,   0.,   0.,   0.,   0.,   0.,   0.,   0.,   0.,\n",
       "          0.,   3.,  25.,  39.,  27.,  10.,   4.,   0.,   0.,   0.,   1.,\n",
       "          0.,   0.,   0.,   0.,   0.,   0.,   0.,   0.,   0.,   0.,   0.,\n",
       "          0.,   0.,   0.,   0.,   0.,   0.,   0.,   0.,   0.,   0.,   0.,\n",
       "          0.,   0.,   0.,   0.,   0.,   0.,   0.,   0.,   0.,   0.,   0.,\n",
       "          0.,   0.,   0.,   0.,   0.,   0.,   0.,   0.,   0.,   0.,   0.,\n",
       "          0.,   0.,   0.,   0.,   0.,   0.,   0.,   0.,   0.,   0.,   0.,\n",
       "          0.,   0.,   0.,   0.,   0.,   0.,   0.,   0.,   0.,   1.,   0.,\n",
       "          2.]),\n",
       " array([  2.  ,   3.02,   4.04,   5.06,   6.08,   7.1 ,   8.12,   9.14,\n",
       "         10.16,  11.18,  12.2 ,  13.22,  14.24,  15.26,  16.28,  17.3 ,\n",
       "         18.32,  19.34,  20.36,  21.38,  22.4 ,  23.42,  24.44,  25.46,\n",
       "         26.48,  27.5 ,  28.52,  29.54,  30.56,  31.58,  32.6 ,  33.62,\n",
       "         34.64,  35.66,  36.68,  37.7 ,  38.72,  39.74,  40.76,  41.78,\n",
       "         42.8 ,  43.82,  44.84,  45.86,  46.88,  47.9 ,  48.92,  49.94,\n",
       "         50.96,  51.98,  53.  ,  54.02,  55.04,  56.06,  57.08,  58.1 ,\n",
       "         59.12,  60.14,  61.16,  62.18,  63.2 ,  64.22,  65.24,  66.26,\n",
       "         67.28,  68.3 ,  69.32,  70.34,  71.36,  72.38,  73.4 ,  74.42,\n",
       "         75.44,  76.46,  77.48,  78.5 ,  79.52,  80.54,  81.56,  82.58,\n",
       "         83.6 ,  84.62,  85.64,  86.66,  87.68,  88.7 ,  89.72,  90.74,\n",
       "         91.76,  92.78,  93.8 ,  94.82,  95.84,  96.86,  97.88,  98.9 ,\n",
       "         99.92, 100.94, 101.96, 102.98, 104.  ]),\n",
       " <BarContainer object of 100 artists>)"
      ]
     },
     "execution_count": 17,
     "metadata": {},
     "output_type": "execute_result"
    },
    {
     "data": {
      "image/png": "[encoded data removed]",
      "text/plain": [
       "<Figure size 640x480 with 1 Axes>"
      ]
     },
     "metadata": {},
     "output_type": "display_data"
    }
   ],
   "source": [
    "import matplotlib.pyplot as plt\n",
    "plt.hist(times, bins=100)"
   ]
  },
  {
   "cell_type": "code",
   "execution_count": 18,
   "metadata": {},
   "outputs": [
    {
     "data": {
      "text/plain": [
       "array([  2.,   3.,   6.,   7.,   5.,  27.,   8.,  28.,  30.,  31.,   4.,\n",
       "        29., 101.,  26., 104.,  35.])"
      ]
     },
     "execution_count": 18,
     "metadata": {},
     "output_type": "execute_result"
    }
   ],
   "source": [
    "times.unique()"
   ]
  },
  {
   "cell_type": "code",
   "execution_count": 19,
   "metadata": {},
   "outputs": [
    {
     "data": {
      "text/plain": [
       "np.float64(6.1934566145092464)"
      ]
     },
     "execution_count": 19,
     "metadata": {},
     "output_type": "execute_result"
    }
   ],
   "source": [
    "times.mean()"
   ]
  },
  {
   "cell_type": "code",
   "execution_count": 20,
   "metadata": {},
   "outputs": [
    {
     "data": {
      "text/plain": [
       "np.float64(3.0)"
      ]
     },
     "execution_count": 20,
     "metadata": {},
     "output_type": "execute_result"
    }
   ],
   "source": [
    "times.median()"
   ]
  },
  {
   "cell_type": "code",
   "execution_count": 21,
   "metadata": {},
   "outputs": [],
   "source": [
    "import numpy as np"
   ]
  },
  {
   "cell_type": "code",
   "execution_count": 25,
   "metadata": {},
   "outputs": [
    {
     "name": "stdout",
     "output_type": "stream",
     "text": [
      "2.0\t\t570\n",
      "3.0\t\t137\n",
      "4.0\t\t29\n",
      "5.0\t\t81\n",
      "6.0\t\t139\n",
      "7.0\t\t298\n",
      "8.0\t\t40\n",
      "26.0\t\t3\n",
      "27.0\t\t25\n",
      "28.0\t\t39\n",
      "29.0\t\t27\n",
      "30.0\t\t10\n",
      "31.0\t\t4\n",
      "35.0\t\t1\n",
      "101.0\t\t1\n",
      "104.0\t\t2\n"
     ]
    }
   ],
   "source": [
    "unt = times.unique()\n",
    "unt.sort()\n",
    "sums = 0\n",
    "for i in unt:\n",
    "    val = np.count_nonzero(times==i)\n",
    "    if i <= 7.0:\n",
    "        sums += val\n",
    "    print(f\"{i}\\t\\t{val}\")    "
   ]
  },
  {
   "cell_type": "code",
   "execution_count": 27,
   "metadata": {},
   "outputs": [
    {
     "data": {
      "text/plain": [
       "0.8912579957356077"
      ]
     },
     "execution_count": 27,
     "metadata": {},
     "output_type": "execute_result"
    }
   ],
   "source": [
    "sums/len(df)"
   ]
  },
  {
   "cell_type": "code",
   "execution_count": null,
   "metadata": {},
   "outputs": [],
   "source": []
  }
 ],
 "metadata": {
  "kernelspec": {
   "display_name": ".venv",
   "language": "python",
   "name": "python3"
  },
  "language_info": {
   "codemirror_mode": {
    "name": "ipython",
    "version": 3
   },
   "file_extension": ".py",
   "mimetype": "text/x-python",
   "name": "python",
   "nbconvert_exporter": "python",
   "pygments_lexer": "ipython3",
   "version": "3.11.9"
  }
 },
 "nbformat": 4,
 "nbformat_minor": 2
}
